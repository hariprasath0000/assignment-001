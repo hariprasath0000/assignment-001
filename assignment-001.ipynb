{
 "cells": [
  {
   "cell_type": "code",
   "execution_count": null,
   "id": "d7460b2a",
   "metadata": {},
   "outputs": [],
   "source": [
    "\n",
    "grades = []\n",
    "\n",
    "num_students = int(input(\"Enter the number of students: \"))\n",
    "\n",
    "for i in range(1, num_students + 1):\n",
    "    grade = float(input(f\"Enter grade for student {i}: \"))\n",
    "    grades.append(grade)\n",
    "\n",
    "print(\"List of grades:\", grades)\n",
    "\n",
    "\n",
    "for i, grade in enumerate(grades, start=1):\n",
    "    if grade >= 90:\n",
    "        status = \"Excellent\"\n",
    "    elif grade >= 70:\n",
    "        status = \"Good\"\n",
    "    elif grade >= 50:\n",
    "        status = \"Average\"\n",
    "    else:\n",
    "        status = \"Fail\"\n",
    "\n",
    "    print(f\"Student {i}: Grade {grade} - {status}\")\n",
    "\n",
    "\n"
   ]
  },
  {
   "cell_type": "code",
   "execution_count": null,
   "id": "f006c9a3",
   "metadata": {},
   "outputs": [],
   "source": []
  },
  {
   "cell_type": "code",
   "execution_count": null,
   "id": "ff07c100",
   "metadata": {},
   "outputs": [],
   "source": []
  },
  {
   "cell_type": "code",
   "execution_count": null,
   "id": "67329353",
   "metadata": {},
   "outputs": [],
   "source": []
  }
 ],
 "metadata": {
  "kernelspec": {
   "display_name": "Python 3 (ipykernel)",
   "language": "python",
   "name": "python3"
  },
  "language_info": {
   "codemirror_mode": {
    "name": "ipython",
    "version": 3
   },
   "file_extension": ".py",
   "mimetype": "text/x-python",
   "name": "python",
   "nbconvert_exporter": "python",
   "pygments_lexer": "ipython3",
   "version": "3.9.17"
  }
 },
 "nbformat": 4,
 "nbformat_minor": 5
}
